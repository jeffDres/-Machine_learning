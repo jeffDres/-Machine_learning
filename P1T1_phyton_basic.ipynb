{
  "nbformat": 4,
  "nbformat_minor": 0,
  "metadata": {
    "colab": {
      "name": "P1T1_phyton_basic.ipynb",
      "provenance": [],
      "collapsed_sections": [],
      "toc_visible": true
    },
    "kernelspec": {
      "name": "python3",
      "display_name": "Python 3"
    },
    "language_info": {
      "name": "python"
    },
    "accelerator": "TPU"
  },
  "cells": [
    {
      "cell_type": "markdown",
      "source": [
        "#Description\n",
        "\n",
        "***\n",
        "\n",
        "+ @Author: Jeferson Andres Alvarez\n",
        "+ @Date: 12/02/2022\n",
        "+ @Description: This notenook python show simple basic exercise in phyton\n",
        "\n",
        "\n"
      ],
      "metadata": {
        "id": "uo23VKB9yriS"
      }
    },
    {
      "cell_type": "markdown",
      "source": [
        "#Basic Exercise\n",
        "\n"
      ],
      "metadata": {
        "id": "2T7KPVcZz9pN"
      }
    },
    {
      "cell_type": "markdown",
      "source": [
        "##Exercise 1: products + IVA\n"
      ],
      "metadata": {
        "id": "_VFuRZKf0N6k"
      }
    },
    {
      "cell_type": "code",
      "source": [
        "product1 = int(input(\"input 1° product\"))\n",
        "product2 = int(input(\"input 2° product\"))\n",
        "product3 = int(input(\"input 3° product\"))\n",
        "product4 = int(input(\"input 4° product\"))\n",
        "product5 = int(input(\"input 5° product\"))\n",
        "suma = product1 + product2 + product3 + product4 + product5\n",
        "iva = suma * 0.19\n",
        "Total = (suma * 1.19)\n",
        "print(\"valor neto es : \", suma, \"\\n IVA : \", iva, \"\\n Total : \", Total)\n",
        "\n"
      ],
      "metadata": {
        "colab": {
          "base_uri": "https://localhost:8080/"
        },
        "id": "NGz42yf70ah0",
        "outputId": "37764733-b9f5-40dd-c25d-dc857e754591"
      },
      "execution_count": null,
      "outputs": [
        {
          "output_type": "stream",
          "name": "stdout",
          "text": [
            "input 1° product10\n",
            "input 2° product10\n",
            "input 3° product10\n",
            "input 4° product10\n",
            "input 5° product10\n",
            "valor neto es :  50 \n",
            " IVA :  9.5 \n",
            " Total :  59.5\n"
          ]
        }
      ]
    },
    {
      "cell_type": "markdown",
      "source": [
        "###Version Phyton\n",
        "\n"
      ],
      "metadata": {
        "id": "wMwoEC5z3rNL"
      }
    },
    {
      "cell_type": "code",
      "source": [
        "pr1, pr2, pr3, pr4, pr5 = input(\"input 1°, 2°, 3°, 4°, 5° product separate with , : \").split(\",\")\n",
        "suma =int(pr1) + int(pr2) + int(pr3) + int(pr4) + int(pr5)\n",
        "print(\"valor neto es : \", suma, \"\\n IVA : \", suma * 0.19, \"\\n Total : \", suma * 1.19)"
      ],
      "metadata": {
        "colab": {
          "base_uri": "https://localhost:8080/"
        },
        "id": "IiyhB48w3yDK",
        "outputId": "022a3590-cca2-41e5-c007-16beb20abe25"
      },
      "execution_count": null,
      "outputs": [
        {
          "output_type": "stream",
          "name": "stdout",
          "text": [
            "input 1°, 2°, 3°, 4°, 5° product separate with , : 1,1,1,1,1\n",
            "valor neto es :  5 \n",
            " IVA :  0.95 \n",
            " Total :  5.949999999999999\n"
          ]
        }
      ]
    },
    {
      "cell_type": "markdown",
      "source": [
        "##Exercise 2: higher"
      ],
      "metadata": {
        "id": "i_eVnwzs8ZXX"
      }
    },
    {
      "cell_type": "code",
      "source": [
        "num1 = int(input(\"input 1° num\"))\n",
        "num2 = int(input(\"input 2° num\"))\n",
        "num3 = int(input(\"input 3° num\"))\n",
        "\n",
        "if num1 > num2 and num1 > num3:\n",
        "  print(\"the largest number is \", num1)\n",
        "elif num2 > num1 and num2 > num3:\n",
        "  print(\"the largest number is \", num2)\n",
        "else:\n",
        "  print(\"the largest number is \", num3)\n",
        "\n",
        "if num1 < num2 and num1 < num3:\n",
        "  print(\"the smallest number is \", num1)\n",
        "elif num2 < num1 and num2 < num3:\n",
        "  print(\"the smallest number is \", num2)\n",
        "else:\n",
        "  print(\"the smallest number is \", num3)\n",
        "\n",
        "promedio = (num1+num2+num3)/3\n",
        "\n",
        "print (\"the average is \", promedio)\n",
        "\n",
        "\n"
      ],
      "metadata": {
        "colab": {
          "base_uri": "https://localhost:8080/"
        },
        "id": "FkBK3gFp8qud",
        "outputId": "49214ed0-146b-4224-db7a-1428911f5331"
      },
      "execution_count": null,
      "outputs": [
        {
          "output_type": "stream",
          "name": "stdout",
          "text": [
            "input 1° num1\n",
            "input 2° num2\n",
            "input 3° num3\n",
            "the largest number is  3\n",
            "the smallest number is  1\n",
            "the average is  2.0\n"
          ]
        }
      ]
    },
    {
      "cell_type": "markdown",
      "source": [
        "###Version Phyton\n"
      ],
      "metadata": {
        "id": "pg8cVKLy-jVa"
      }
    },
    {
      "cell_type": "code",
      "source": [
        "num1, num2, num3 = input(\"input num1, num2, num3 separate with , :\").split(\",\")\n",
        "print(\"el numero mayor es \", max(int(num1), int(num2), int(num3) ), \"\\n el numero menor es \", min(int(num1), int(num2), int(num3) ) )\n",
        "print(\"el promedio es : \", (int(num1) + int(num2) + int(num3) )/3)"
      ],
      "metadata": {
        "colab": {
          "base_uri": "https://localhost:8080/"
        },
        "id": "vf35UeKI-nBK",
        "outputId": "f9baaab2-2de6-4c04-dd3b-795ba9f851cb"
      },
      "execution_count": null,
      "outputs": [
        {
          "output_type": "stream",
          "name": "stdout",
          "text": [
            "input num1, num2, num3 separate with , :2,4,1\n",
            "el numero mayor es  4 \n",
            " el numero menor es  1\n",
            "el promedio es :  2.3333333333333335\n"
          ]
        }
      ]
    },
    {
      "cell_type": "markdown",
      "source": [
        ""
      ],
      "metadata": {
        "id": "HjZ4MB5lyoUU"
      }
    },
    {
      "cell_type": "markdown",
      "source": [
        "##Exercise 3 : array\n",
        "\n"
      ],
      "metadata": {
        "id": "zmX5Qi7TBSf-"
      }
    },
    {
      "cell_type": "code",
      "source": [
        "rango1=list(range(1,13))\n",
        "rango2=list(range(12,0,-1))\n",
        "print(rango1+rango2)"
      ],
      "metadata": {
        "id": "mDr6sjRGC9dH",
        "colab": {
          "base_uri": "https://localhost:8080/"
        },
        "outputId": "9af3b425-bc3c-4e5d-c666-59e31b8060f3"
      },
      "execution_count": 1,
      "outputs": [
        {
          "output_type": "stream",
          "name": "stdout",
          "text": [
            "[1, 2, 3, 4, 5, 6, 7, 8, 9, 10, 11, 12, 12, 11, 10, 9, 8, 7, 6, 5, 4, 3, 2, 1]\n"
          ]
        }
      ]
    },
    {
      "cell_type": "markdown",
      "source": [
        "#Exercise 4: Manejo de librerias"
      ],
      "metadata": {
        "id": "qVlql36TvMcs"
      }
    },
    {
      "cell_type": "markdown",
      "source": [
        "##Cargando librerias para numeros randomicos"
      ],
      "metadata": {
        "id": "nf6d_fr1vkoE"
      }
    },
    {
      "cell_type": "code",
      "source": [
        "import random\n",
        "Var1= random.randrange(101)\n",
        "print(\"numero aleatorio es \",Var1)"
      ],
      "metadata": {
        "colab": {
          "base_uri": "https://localhost:8080/"
        },
        "id": "UdRf_h-yvZSF",
        "outputId": "308c3dda-f195-4d8d-99b1-70b26ee0e1d0"
      },
      "execution_count": 9,
      "outputs": [
        {
          "output_type": "stream",
          "name": "stdout",
          "text": [
            "numero aleatorio es  39\n"
          ]
        }
      ]
    },
    {
      "cell_type": "code",
      "source": [
        "import random\n",
        "lista= [ random.randrange(10) for i in range(10)]\n",
        "print(\"numeros aleatorios : \",lista)"
      ],
      "metadata": {
        "colab": {
          "base_uri": "https://localhost:8080/"
        },
        "id": "5a08DCySv-zE",
        "outputId": "2b028e9f-44e2-4312-d104-c0a93b02e09d"
      },
      "execution_count": 13,
      "outputs": [
        {
          "output_type": "stream",
          "name": "stdout",
          "text": [
            "numeros aleatorios :  [7, 9, 4, 6, 0, 0, 3, 0, 8, 3]\n"
          ]
        }
      ]
    },
    {
      "cell_type": "markdown",
      "source": [
        "##Version Phyton\n"
      ],
      "metadata": {
        "id": "n5Ox4EbPwGAj"
      }
    },
    {
      "cell_type": "code",
      "source": [
        "for i in range(10): print(\"numero aleatorio \",i,\" : \" ,random.randrange(100))"
      ],
      "metadata": {
        "colab": {
          "base_uri": "https://localhost:8080/"
        },
        "id": "xG5dYDSMwJf7",
        "outputId": "be9ed416-2769-4706-e303-83a0307f8b54"
      },
      "execution_count": 12,
      "outputs": [
        {
          "output_type": "stream",
          "name": "stdout",
          "text": [
            "numero aleatorio  0  :  50\n",
            "numero aleatorio  1  :  98\n",
            "numero aleatorio  2  :  58\n",
            "numero aleatorio  3  :  78\n",
            "numero aleatorio  4  :  88\n",
            "numero aleatorio  5  :  99\n",
            "numero aleatorio  6  :  11\n",
            "numero aleatorio  7  :  36\n",
            "numero aleatorio  8  :  41\n",
            "numero aleatorio  9  :  28\n"
          ]
        }
      ]
    }
  ]
}