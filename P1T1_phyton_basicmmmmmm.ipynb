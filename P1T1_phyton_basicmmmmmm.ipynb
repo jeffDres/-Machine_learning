{
  "nbformat": 4,
  "nbformat_minor": 0,
  "metadata": {
    "colab": {
      "name": "P1T1_phyton_basic.ipynb",
      "provenance": [],
      "collapsed_sections": [
        "_VFuRZKf0N6k"
      ],
      "toc_visible": true,
      "mount_file_id": "15oVEoxAqJjcXjlkWJV_IMBKTfGgs8b34",
      "authorship_tag": "ABX9TyNU7/+GNEKkP44zvXi1MbBB",
      "include_colab_link": true
    },
    "kernelspec": {
      "name": "python3",
      "display_name": "Python 3"
    },
    "language_info": {
      "name": "python"
    },
    "accelerator": "TPU"
  },
  "cells": [
    {
      "cell_type": "markdown",
      "metadata": {
        "id": "view-in-github",
        "colab_type": "text"
      },
      "source": [
        "<a href=\"https://colab.research.google.com/github/jeffDres/-Machine_learning/blob/main/P1T1_phyton_basicmmmmmm.ipynb\" target=\"_parent\"><img src=\"https://colab.research.google.com/assets/colab-badge.svg\" alt=\"Open In Colab\"/></a>"
      ]
    },
    {
      "cell_type": "markdown",
      "source": [
        "#Description\n",
        "\n",
        "***\n",
        "\n",
        "+ @Author: Jeferson Andres Alvarez\n",
        "+ @Date: 12/02/2022\n",
        "+ @Description: This notenook python show simple basic exercise in phyton\n",
        "\n",
        "\n"
      ],
      "metadata": {
        "id": "uo23VKB9yriS"
      }
    },
    {
      "cell_type": "markdown",
      "source": [
        "#Basic Exercise\n",
        "\n"
      ],
      "metadata": {
        "id": "2T7KPVcZz9pN"
      }
    },
    {
      "cell_type": "markdown",
      "source": [
        "##Exercise 1: products + IVA\n"
      ],
      "metadata": {
        "id": "_VFuRZKf0N6k"
      }
    },
    {
      "cell_type": "code",
      "source": [
        "product1 = int(input(\"input 1° product\"))\n",
        "product2 = int(input(\"input 2° product\"))\n",
        "product3 = int(input(\"input 3° product\"))\n",
        "product4 = int(input(\"input 4° product\"))\n",
        "product5 = int(input(\"input 5° product\"))\n",
        "suma = product1 + product2 + product3 + product4 + product5\n",
        "iva = suma * 0.19\n",
        "Total = (suma * 1.19)\n",
        "print(\"valor neto es : \", suma, \"\\n IVA : \", iva, \"\\n Total : \", Total)\n",
        "\n"
      ],
      "metadata": {
        "colab": {
          "base_uri": "https://localhost:8080/"
        },
        "id": "NGz42yf70ah0",
        "outputId": "37764733-b9f5-40dd-c25d-dc857e754591"
      },
      "execution_count": null,
      "outputs": [
        {
          "output_type": "stream",
          "name": "stdout",
          "text": [
            "input 1° product10\n",
            "input 2° product10\n",
            "input 3° product10\n",
            "input 4° product10\n",
            "input 5° product10\n",
            "valor neto es :  50 \n",
            " IVA :  9.5 \n",
            " Total :  59.5\n"
          ]
        }
      ]
    },
    {
      "cell_type": "markdown",
      "source": [
        "###Version Phyton\n",
        "\n"
      ],
      "metadata": {
        "id": "wMwoEC5z3rNL"
      }
    },
    {
      "cell_type": "code",
      "source": [
        "pr1, pr2, pr3, pr4, pr5 = input(\"input 1°, 2°, 3°, 4°, 5° product separate with , : \").split(\",\")\n",
        "suma =int(pr1) + int(pr2) + int(pr3) + int(pr4) + int(pr5)\n",
        "print(\"valor neto es : \", suma, \"\\n IVA : \", suma * 0.19, \"\\n Total : \", suma * 1.19)"
      ],
      "metadata": {
        "colab": {
          "base_uri": "https://localhost:8080/"
        },
        "id": "IiyhB48w3yDK",
        "outputId": "022a3590-cca2-41e5-c007-16beb20abe25"
      },
      "execution_count": null,
      "outputs": [
        {
          "output_type": "stream",
          "name": "stdout",
          "text": [
            "input 1°, 2°, 3°, 4°, 5° product separate with , : 1,1,1,1,1\n",
            "valor neto es :  5 \n",
            " IVA :  0.95 \n",
            " Total :  5.949999999999999\n"
          ]
        }
      ]
    },
    {
      "cell_type": "markdown",
      "source": [
        "##Exercise 2: higher"
      ],
      "metadata": {
        "id": "i_eVnwzs8ZXX"
      }
    },
    {
      "cell_type": "code",
      "source": [
        "num1 = int(input(\"input 1° num\"))\n",
        "num2 = int(input(\"input 2° num\"))\n",
        "num3 = int(input(\"input 3° num\"))\n",
        "\n",
        "if num1 > num2 and num1 > num3:\n",
        "  print(\"the largest number is \", num1)\n",
        "elif num2 > num1 and num2 > num3:\n",
        "  print(\"the largest number is \", num2)\n",
        "else:\n",
        "  print(\"the largest number is \", num3)\n",
        "\n",
        "if num1 < num2 and num1 < num3:\n",
        "  print(\"the smallest number is \", num1)\n",
        "elif num2 < num1 and num2 < num3:\n",
        "  print(\"the smallest number is \", num2)\n",
        "else:\n",
        "  print(\"the smallest number is \", num3)\n",
        "\n",
        "promedio = (num1+num2+num3)/3\n",
        "\n",
        "print (\"the average is \", promedio)\n",
        "\n",
        "\n"
      ],
      "metadata": {
        "colab": {
          "base_uri": "https://localhost:8080/"
        },
        "id": "FkBK3gFp8qud",
        "outputId": "49214ed0-146b-4224-db7a-1428911f5331"
      },
      "execution_count": null,
      "outputs": [
        {
          "output_type": "stream",
          "name": "stdout",
          "text": [
            "input 1° num1\n",
            "input 2° num2\n",
            "input 3° num3\n",
            "the largest number is  3\n",
            "the smallest number is  1\n",
            "the average is  2.0\n"
          ]
        }
      ]
    },
    {
      "cell_type": "markdown",
      "source": [
        "###Version Phyton\n"
      ],
      "metadata": {
        "id": "pg8cVKLy-jVa"
      }
    },
    {
      "cell_type": "code",
      "source": [
        "num1, num2, num3 = input(\"input num1, num2, num3 separate with , :\").split(\",\")\n",
        "print(\"el numero mayor es \", max(int(num1), int(num2), int(num3) ), \"\\n el numero menor es \", min(int(num1), int(num2), int(num3) ) )\n",
        "print(\"el promedio es : \", (int(num1) + int(num2) + int(num3) )/3)"
      ],
      "metadata": {
        "colab": {
          "base_uri": "https://localhost:8080/"
        },
        "id": "vf35UeKI-nBK",
        "outputId": "f9baaab2-2de6-4c04-dd3b-795ba9f851cb"
      },
      "execution_count": null,
      "outputs": [
        {
          "output_type": "stream",
          "name": "stdout",
          "text": [
            "input num1, num2, num3 separate with , :2,4,1\n",
            "el numero mayor es  4 \n",
            " el numero menor es  1\n",
            "el promedio es :  2.3333333333333335\n"
          ]
        }
      ]
    },
    {
      "cell_type": "markdown",
      "source": [
        ""
      ],
      "metadata": {
        "id": "HjZ4MB5lyoUU"
      }
    },
    {
      "cell_type": "markdown",
      "source": [
        "##Exercise 3 : array\n",
        "\n"
      ],
      "metadata": {
        "id": "zmX5Qi7TBSf-"
      }
    },
    {
      "cell_type": "code",
      "source": [
        "miLista = []\n",
        "\n",
        "miLista"
      ],
      "metadata": {
        "id": "mDr6sjRGC9dH"
      },
      "execution_count": null,
      "outputs": []
    }
  ]
}